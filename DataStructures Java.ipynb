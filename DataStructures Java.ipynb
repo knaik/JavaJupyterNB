{
 "cells": [
  {
   "cell_type": "markdown",
   "metadata": {},
   "source": [
    "Data Structures and Algorithms"
   ]
  },
  {
   "cell_type": "code",
   "execution_count": 34,
   "metadata": {},
   "outputs": [],
   "source": [
    "//Print function for Arrays\n",
    "void printArr(int[] arr){\n",
    "    for(int i=0; i < arr.length;i++){\n",
    "    System.out.print(arr[i]+\" \");\n",
    "    }\n",
    "}\n",
    "final int[] testArr = new int[]{42,1,3,5,8,9,43,11};"
   ]
  },
  {
   "cell_type": "code",
   "execution_count": 35,
   "metadata": {},
   "outputs": [
    {
     "name": "stdout",
     "output_type": "stream",
     "text": [
      "42 1 3 5 8 9 43 11 \n",
      "1 5 3 9 8 11 42 43 "
     ]
    }
   ],
   "source": [
    "//Slection sort of Array, not changing original array\n",
    "int[] selection_sort(int[] Arr){\n",
    "    int[] temp = testArr.clone();\n",
    "    for(int i =0; i < temp.length-1;i++){\n",
    "        int minIndx = i;\n",
    "        for(int j = i+1; j < temp.length; j++){\n",
    "            if(temp[j]<temp[minIndx]){\n",
    "                minIndx=j;\n",
    "            }\n",
    "        int hold = temp[minIndx];\n",
    "        temp[minIndx] = temp[i];\n",
    "        temp[i] = hold;\n",
    "        }\n",
    "    }\n",
    "    return temp;\n",
    "}\n",
    "\n",
    "//testing function\n",
    "printArr(testArr);\n",
    "System.out.println();\n",
    "printArr(selection_sort(testArr));"
   ]
  },
  {
   "cell_type": "code",
   "execution_count": null,
   "metadata": {},
   "outputs": [],
   "source": []
  }
 ],
 "metadata": {
  "kernelspec": {
   "display_name": "Java",
   "language": "java",
   "name": "java"
  },
  "language_info": {
   "codemirror_mode": "java",
   "file_extension": ".java",
   "mimetype": "text/x-java-source",
   "name": "Java",
   "pygments_lexer": "java",
   "version": "9.0.4+11"
  }
 },
 "nbformat": 4,
 "nbformat_minor": 2
}
